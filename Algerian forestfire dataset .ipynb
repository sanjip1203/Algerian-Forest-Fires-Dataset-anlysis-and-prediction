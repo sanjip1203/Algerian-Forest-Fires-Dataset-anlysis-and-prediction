{
 "cells": [
  {
   "cell_type": "markdown",
   "metadata": {},
   "source": [
    "# Algerian Forest Fires Dataset\n",
    "### Data Set Information:\n",
    "\n",
    "- The dataset includes 244 instances that regroup a data of two regions of Algeria,namely the Bejaia region located in the northeast of Algeria and the Sidi Bel-abbes region located in the northwest of Algeria.\n",
    "\n",
    "- 122 instances for each region.\n",
    "\n",
    "- The period from June 2012 to September 2012. The dataset includes 11 attribues and 1 output attribue (class) The 244 instances have been classified into fire(138 classes) and not fire (106 classes) classes.\n",
    "\n",
    "Attribute Information:\n",
    "\n",
    "1. Date : (DD/MM/YYYY) Day, month ('june' to 'september'), year (2012) Weather data observations\n",
    "1. Temp : temperature noon (temperature max) in Celsius degrees: 22 to 42\n",
    "1. RH : Relative Humidity in %: 21 to 90\n",
    "1. Ws :Wind speed in km/h: 6 to 29\n",
    "1. Rain: total day in mm: 0 to 16.8 FWI Components\n",
    "1. Fine Fuel Moisture Code (FFMC) index from the FWI system: 28.6 to 92.5\n",
    "1. Duff Moisture Code (DMC) index from the FWI system: 1.1 to 65.9\n",
    "1. Drought Code (DC) index from the FWI system: 7 to 220.4\n",
    "1. Initial Spread Index (ISI) index from the FWI system: 0 to 18.5\n",
    "1. Buildup Index (BUI) index from the FWI system: 1.1 to 68\n",
    "1. Fire Weather Index (FWI) Index: 0 to 31.1\n",
    "1. Classes: two classes, namely Fire and not Fire"
   ]
  },
  {
   "cell_type": "code",
   "execution_count": null,
   "metadata": {},
   "outputs": [],
   "source": []
  },
  {
   "cell_type": "code",
   "execution_count": null,
   "metadata": {},
   "outputs": [],
   "source": []
  },
  {
   "cell_type": "code",
   "execution_count": null,
   "metadata": {},
   "outputs": [],
   "source": []
  },
  {
   "cell_type": "code",
   "execution_count": null,
   "metadata": {},
   "outputs": [],
   "source": []
  },
  {
   "cell_type": "code",
   "execution_count": null,
   "metadata": {},
   "outputs": [],
   "source": []
  },
  {
   "cell_type": "code",
   "execution_count": null,
   "metadata": {},
   "outputs": [],
   "source": []
  },
  {
   "cell_type": "code",
   "execution_count": null,
   "metadata": {},
   "outputs": [],
   "source": []
  },
  {
   "cell_type": "code",
   "execution_count": null,
   "metadata": {},
   "outputs": [],
   "source": []
  },
  {
   "cell_type": "code",
   "execution_count": null,
   "metadata": {},
   "outputs": [],
   "source": []
  }
 ],
 "metadata": {
  "kernelspec": {
   "display_name": "base",
   "language": "python",
   "name": "python3"
  },
  "language_info": {
   "name": "python",
   "version": "3.10.14"
  }
 },
 "nbformat": 4,
 "nbformat_minor": 2
}
